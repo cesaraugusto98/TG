{
 "cells": [
  {
   "cell_type": "code",
   "execution_count": 1,
   "metadata": {},
   "outputs": [],
   "source": []
  },
  {
   "cell_type": "code",
   "execution_count": 35,
   "metadata": {},
   "outputs": [
    {
     "data": {
      "text/plain": [
       "{1: 'A',\n",
       " 28: 'C',\n",
       " 2: 'E',\n",
       " 29: 'E',\n",
       " 3: 'E',\n",
       " 30: 'E',\n",
       " 4: 'D',\n",
       " 31: 'C',\n",
       " 5: 'C',\n",
       " 32: 'B',\n",
       " 6: 'C',\n",
       " 33: 'B',\n",
       " 7: 'D',\n",
       " 34: 'D',\n",
       " 8: 'C',\n",
       " 35: 'B',\n",
       " 9: 'B',\n",
       " 36: 'A',\n",
       " 10: 'D',\n",
       " 37: 'B',\n",
       " 11: 'E',\n",
       " 38: 'C',\n",
       " 12: 'C',\n",
       " 39: 'E',\n",
       " 13: 'E',\n",
       " 40: 'B',\n",
       " 14: 'A',\n",
       " 41: 'E',\n",
       " 15: 'E',\n",
       " 42: 'C',\n",
       " 16: 'A',\n",
       " 43: 'A',\n",
       " 17: 'C',\n",
       " 44: 'D',\n",
       " 18: 'B',\n",
       " 45: 'B',\n",
       " 19: 'A',\n",
       " 46: 'D',\n",
       " 20: 'D',\n",
       " 47: 'B',\n",
       " 21: 'E',\n",
       " 48: 'C',\n",
       " 22: 'A',\n",
       " 49: 'D',\n",
       " 23: 'B',\n",
       " 50: 'D',\n",
       " 24: 'C',\n",
       " 51: 'A',\n",
       " 25: 'C',\n",
       " 52: 'B',\n",
       " 26: 'A',\n",
       " 53: 'E',\n",
       " 27: 'A',\n",
       " 54: 'B'}"
      ]
     },
     "execution_count": 35,
     "metadata": {},
     "output_type": "execute_result"
    }
   ],
   "source": [
    "from PyPDF2 import PdfFileReader\n",
    "arrumarPadrao = \"QUESTÃO ALTERNATIVADISCIPLINA QUESTÃOALTERNATIVA DISCIPLINA\"\n",
    "padrao = \"QUESTÃO ALTERNATIVA DISCIPLINA QUESTÃO ALTERNATIVA DISCIPLINA\"\n",
    "temas = ['MULTIDISCIPLINAR','RACIOCÍNIO LÓGICO','HISTÓRIA','QUÍMICA','INGLÊS','MATEMÁTICA','FÍSICA','GEOGRAFIA', 'BIOLOGIA','PORTUGUÊS','REDAÇÃO','RASCUNHO', 'RAC','LÓGICO']\n",
    "\n",
    "with open(\"Gabaritos\\\\GABARITO_1_2012.pdf\", 'rb') as f:\n",
    "    gabarito=PdfFileReader(f)\n",
    "    t2 = gabarito.getPage(gabarito.numPages-1).extractText().upper().replace('\\n','').replace('  ',' ')\n",
    "    text = gabarito.getPage(gabarito.numPages-1).extractText().upper().replace('\\n','').replace('  ',' ').replace(arrumarPadrao,padrao)\n",
    "\n",
    "for tema in temas:\n",
    "    text = text.replace(tema,'')\n",
    "\n",
    "lstSemCabecalho = text[text.find(padrao)+len(padrao):].split(' ')\n",
    "\n",
    "questao = []\n",
    "resposta = []\n",
    "cont = 0\n",
    "for el in lstSemCabecalho:\n",
    "    if el!='' and cont%2==0:\n",
    "        questao.append(el)\n",
    "        cont+=1\n",
    "    elif el!='' and cont%2 ==1:\n",
    "        resposta.append(el)\n",
    "        cont+=1\n",
    "gabarito = {}\n",
    "for i in range(0,54):\n",
    "    gabarito.update({int(questao[i]):resposta[i]})\n",
    "gabarito"
   ]
  }
 ],
 "metadata": {
  "kernelspec": {
   "display_name": "Python 3",
   "language": "python",
   "name": "python3"
  },
  "language_info": {
   "codemirror_mode": {
    "name": "ipython",
    "version": 3
   },
   "file_extension": ".py",
   "mimetype": "text/x-python",
   "name": "python",
   "nbconvert_exporter": "python",
   "pygments_lexer": "ipython3",
   "version": "3.7.1"
  }
 },
 "nbformat": 4,
 "nbformat_minor": 2
}
